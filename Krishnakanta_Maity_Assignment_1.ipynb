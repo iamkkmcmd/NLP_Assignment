{
 "cells": [
  {
   "cell_type": "code",
   "execution_count": 1,
   "id": "9b2dfb53",
   "metadata": {},
   "outputs": [],
   "source": [
    "import copy, time, sys, os\n",
    "from tqdm.notebook import tqdm\n",
    "# Import the basic datascience module\n",
    "import pandas as pd\n",
    "import numpy as np\n",
    "import matplotlib.pyplot as plt\n",
    "import seaborn as sns\n",
    "# For regular expression and NLP\n",
    "import re\n",
    "import nltk\n",
    "# Import modules for classifier\n",
    "from sklearn.model_selection import train_test_split\n",
    "from sklearn.neighbors import KNeighborsClassifier\n",
    "from sklearn.svm import SVC\n",
    "from sklearn.tree import DecisionTreeClassifier\n",
    "# Import mesure metrices\n",
    "from sklearn.metrics import accuracy_score\n",
    "from sklearn.metrics import plot_confusion_matrix"
   ]
  },
  {
   "cell_type": "code",
   "execution_count": 2,
   "id": "ccdf2f38",
   "metadata": {},
   "outputs": [
    {
     "data": {
      "text/html": [
       "<div>\n",
       "<style scoped>\n",
       "    .dataframe tbody tr th:only-of-type {\n",
       "        vertical-align: middle;\n",
       "    }\n",
       "\n",
       "    .dataframe tbody tr th {\n",
       "        vertical-align: top;\n",
       "    }\n",
       "\n",
       "    .dataframe thead th {\n",
       "        text-align: right;\n",
       "    }\n",
       "</style>\n",
       "<table border=\"1\" class=\"dataframe\">\n",
       "  <thead>\n",
       "    <tr style=\"text-align: right;\">\n",
       "      <th></th>\n",
       "      <th>target</th>\n",
       "      <th>text</th>\n",
       "    </tr>\n",
       "  </thead>\n",
       "  <tbody>\n",
       "    <tr>\n",
       "      <th>0</th>\n",
       "      <td>ham</td>\n",
       "      <td>Go until jurong point, crazy.. Available only ...</td>\n",
       "    </tr>\n",
       "    <tr>\n",
       "      <th>1</th>\n",
       "      <td>ham</td>\n",
       "      <td>Ok lar... Joking wif u oni...</td>\n",
       "    </tr>\n",
       "    <tr>\n",
       "      <th>2</th>\n",
       "      <td>spam</td>\n",
       "      <td>Free entry in 2 a wkly comp to win FA Cup fina...</td>\n",
       "    </tr>\n",
       "    <tr>\n",
       "      <th>3</th>\n",
       "      <td>ham</td>\n",
       "      <td>U dun say so early hor... U c already then say...</td>\n",
       "    </tr>\n",
       "    <tr>\n",
       "      <th>4</th>\n",
       "      <td>ham</td>\n",
       "      <td>Nah I don't think he goes to usf, he lives aro...</td>\n",
       "    </tr>\n",
       "  </tbody>\n",
       "</table>\n",
       "</div>"
      ],
      "text/plain": [
       "  target                                               text\n",
       "0    ham  Go until jurong point, crazy.. Available only ...\n",
       "1    ham                      Ok lar... Joking wif u oni...\n",
       "2   spam  Free entry in 2 a wkly comp to win FA Cup fina...\n",
       "3    ham  U dun say so early hor... U c already then say...\n",
       "4    ham  Nah I don't think he goes to usf, he lives aro..."
      ]
     },
     "execution_count": 2,
     "metadata": {},
     "output_type": "execute_result"
    }
   ],
   "source": [
    "# Read the data\n",
    "data = pd.read_csv('./spam.csv', encoding=\"ISO-8859-1\", header = 0)\n",
    "data = data.iloc[:,0:2]\n",
    "data.columns = ['target', 'text']\n",
    "data.head()"
   ]
  },
  {
   "cell_type": "code",
   "execution_count": 3,
   "id": "5cafd9c3",
   "metadata": {},
   "outputs": [
    {
     "name": "stdout",
     "output_type": "stream",
     "text": [
      "The shape of the data is (5572, 2)\n"
     ]
    }
   ],
   "source": [
    "# Shape of the data\n",
    "print(\"The shape of the data is {}\".format(data.shape))"
   ]
  },
  {
   "cell_type": "code",
   "execution_count": 4,
   "id": "98bc56c0",
   "metadata": {},
   "outputs": [],
   "source": [
    "# Lets take first 100 rows and inspect it\n",
    "# data = data.loc[0:500, ['topic','text']]\n",
    "# data.head()"
   ]
  },
  {
   "cell_type": "code",
   "execution_count": 5,
   "id": "d61f0b9a",
   "metadata": {
    "scrolled": true
   },
   "outputs": [],
   "source": [
    "stop_words = nltk.corpus.stopwords.words('english')"
   ]
  },
  {
   "cell_type": "code",
   "execution_count": 6,
   "id": "0c68678c",
   "metadata": {},
   "outputs": [
    {
     "name": "stdout",
     "output_type": "stream",
     "text": [
      "['go', 'jurong', 'point', 'crazy', 'available', 'bugis', 'n', 'great', 'world', 'la', 'e', 'buffet', 'cine', 'got', 'amore', 'wat']\n"
     ]
    }
   ],
   "source": [
    "# Define tokeniser function that is going to apply over text column\n",
    "def tokeniser(sentence):\n",
    "    # sentence is nothing but a string\n",
    "    # Step 1: Make everything in lower case\n",
    "    sentence = sentence.lower()\n",
    "    # Step 2: Only grab the words using re module (ignoring words)\n",
    "    words = re.findall('[a-z]+', sentence)\n",
    "    # Step 3: Remove stop words using nltk stop words list\n",
    "    filtered_word = [word for word in words if word not in stop_words]\n",
    "    return filtered_word\n",
    "# Lets test the funtion for one sentence\n",
    "print(tokeniser(data.text[0]))"
   ]
  },
  {
   "cell_type": "code",
   "execution_count": 7,
   "id": "71779cba",
   "metadata": {},
   "outputs": [],
   "source": [
    "# Lets apply the function over the text column and make a new column called filtered_word\n",
    "data['filtered_word'] = data['text'].apply(tokeniser)"
   ]
  },
  {
   "cell_type": "code",
   "execution_count": 8,
   "id": "3c932b75",
   "metadata": {
    "scrolled": false
   },
   "outputs": [
    {
     "data": {
      "text/html": [
       "<div>\n",
       "<style scoped>\n",
       "    .dataframe tbody tr th:only-of-type {\n",
       "        vertical-align: middle;\n",
       "    }\n",
       "\n",
       "    .dataframe tbody tr th {\n",
       "        vertical-align: top;\n",
       "    }\n",
       "\n",
       "    .dataframe thead th {\n",
       "        text-align: right;\n",
       "    }\n",
       "</style>\n",
       "<table border=\"1\" class=\"dataframe\">\n",
       "  <thead>\n",
       "    <tr style=\"text-align: right;\">\n",
       "      <th></th>\n",
       "      <th>target</th>\n",
       "      <th>text</th>\n",
       "      <th>filtered_word</th>\n",
       "    </tr>\n",
       "  </thead>\n",
       "  <tbody>\n",
       "    <tr>\n",
       "      <th>0</th>\n",
       "      <td>ham</td>\n",
       "      <td>Go until jurong point, crazy.. Available only ...</td>\n",
       "      <td>[go, jurong, point, crazy, available, bugis, n...</td>\n",
       "    </tr>\n",
       "    <tr>\n",
       "      <th>1</th>\n",
       "      <td>ham</td>\n",
       "      <td>Ok lar... Joking wif u oni...</td>\n",
       "      <td>[ok, lar, joking, wif, u, oni]</td>\n",
       "    </tr>\n",
       "    <tr>\n",
       "      <th>2</th>\n",
       "      <td>spam</td>\n",
       "      <td>Free entry in 2 a wkly comp to win FA Cup fina...</td>\n",
       "      <td>[free, entry, wkly, comp, win, fa, cup, final,...</td>\n",
       "    </tr>\n",
       "    <tr>\n",
       "      <th>3</th>\n",
       "      <td>ham</td>\n",
       "      <td>U dun say so early hor... U c already then say...</td>\n",
       "      <td>[u, dun, say, early, hor, u, c, already, say]</td>\n",
       "    </tr>\n",
       "    <tr>\n",
       "      <th>4</th>\n",
       "      <td>ham</td>\n",
       "      <td>Nah I don't think he goes to usf, he lives aro...</td>\n",
       "      <td>[nah, think, goes, usf, lives, around, though]</td>\n",
       "    </tr>\n",
       "  </tbody>\n",
       "</table>\n",
       "</div>"
      ],
      "text/plain": [
       "  target                                               text  \\\n",
       "0    ham  Go until jurong point, crazy.. Available only ...   \n",
       "1    ham                      Ok lar... Joking wif u oni...   \n",
       "2   spam  Free entry in 2 a wkly comp to win FA Cup fina...   \n",
       "3    ham  U dun say so early hor... U c already then say...   \n",
       "4    ham  Nah I don't think he goes to usf, he lives aro...   \n",
       "\n",
       "                                       filtered_word  \n",
       "0  [go, jurong, point, crazy, available, bugis, n...  \n",
       "1                     [ok, lar, joking, wif, u, oni]  \n",
       "2  [free, entry, wkly, comp, win, fa, cup, final,...  \n",
       "3      [u, dun, say, early, hor, u, c, already, say]  \n",
       "4     [nah, think, goes, usf, lives, around, though]  "
      ]
     },
     "execution_count": 8,
     "metadata": {},
     "output_type": "execute_result"
    }
   ],
   "source": [
    "# Inspect the data\n",
    "data.head()"
   ]
  },
  {
   "cell_type": "code",
   "execution_count": 9,
   "id": "6d8f73a3",
   "metadata": {
    "scrolled": true
   },
   "outputs": [
    {
     "name": "stdout",
     "output_type": "stream",
     "text": [
      "Size of the vocabulary is 7564\n"
     ]
    }
   ],
   "source": [
    "# Create vocabulary\n",
    "def make_vocabulary(data):\n",
    "    vocabulary = []\n",
    "    for i in data['filtered_word']:\n",
    "        vocabulary.extend(i)\n",
    "    vocabulary = list(set(vocabulary))\n",
    "    vocabulary.sort()\n",
    "    return vocabulary\n",
    "vocabulary = make_vocabulary(data)\n",
    "print(\"Size of the vocabulary is {}\".format(len(vocabulary)))"
   ]
  },
  {
   "cell_type": "markdown",
   "id": "e18da821",
   "metadata": {},
   "source": [
    "<h3 style=\"background-color:#DAF7A6;padding:7px;text-align:center;\"> Binary Case </h3>"
   ]
  },
  {
   "cell_type": "code",
   "execution_count": 10,
   "id": "1366e672",
   "metadata": {},
   "outputs": [
    {
     "name": "stdout",
     "output_type": "stream",
     "text": [
      "Length of vector 7564\n"
     ]
    }
   ],
   "source": [
    "# Term document matrix\n",
    "voc_len = len(vocabulary)\n",
    "# Define a funtion for encoding (Binary)\n",
    "def hotEncoding(word_list):\n",
    "    # Initialize the null vector\n",
    "    encoded_list = np.zeros(voc_len)\n",
    "    for i in range(voc_len):\n",
    "        if vocabulary[i] in word_list:\n",
    "            encoded_list[i] = 1\n",
    "        else:\n",
    "            encoded_list[i] = 0\n",
    "    return pd.Series(encoded_list)\n",
    "# Lets check the function\n",
    "print(\"Length of vector {}\".format(len(hotEncoding(data.filtered_word[0]))))\n",
    "# print(\"Number of words {}\".format(np.sum(hotEncoding(sub_data.filtered_word[0]), dtype = 'int32')))"
   ]
  },
  {
   "cell_type": "code",
   "execution_count": 11,
   "id": "c4c90dba",
   "metadata": {
    "scrolled": false
   },
   "outputs": [
    {
     "data": {
      "text/html": [
       "<div>\n",
       "<style scoped>\n",
       "    .dataframe tbody tr th:only-of-type {\n",
       "        vertical-align: middle;\n",
       "    }\n",
       "\n",
       "    .dataframe tbody tr th {\n",
       "        vertical-align: top;\n",
       "    }\n",
       "\n",
       "    .dataframe thead th {\n",
       "        text-align: right;\n",
       "    }\n",
       "</style>\n",
       "<table border=\"1\" class=\"dataframe\">\n",
       "  <thead>\n",
       "    <tr style=\"text-align: right;\">\n",
       "      <th></th>\n",
       "      <th>aa</th>\n",
       "      <th>aah</th>\n",
       "      <th>aaniye</th>\n",
       "      <th>aaooooright</th>\n",
       "      <th>aathi</th>\n",
       "      <th>ab</th>\n",
       "      <th>abbey</th>\n",
       "      <th>abdomen</th>\n",
       "      <th>abeg</th>\n",
       "      <th>abel</th>\n",
       "      <th>...</th>\n",
       "      <th>zeros</th>\n",
       "      <th>zf</th>\n",
       "      <th>zhong</th>\n",
       "      <th>zindgi</th>\n",
       "      <th>zoe</th>\n",
       "      <th>zogtorius</th>\n",
       "      <th>zoom</th>\n",
       "      <th>zouk</th>\n",
       "      <th>zs</th>\n",
       "      <th>zyada</th>\n",
       "    </tr>\n",
       "  </thead>\n",
       "  <tbody>\n",
       "    <tr>\n",
       "      <th>0</th>\n",
       "      <td>0.0</td>\n",
       "      <td>0.0</td>\n",
       "      <td>0.0</td>\n",
       "      <td>0.0</td>\n",
       "      <td>0.0</td>\n",
       "      <td>0.0</td>\n",
       "      <td>0.0</td>\n",
       "      <td>0.0</td>\n",
       "      <td>0.0</td>\n",
       "      <td>0.0</td>\n",
       "      <td>...</td>\n",
       "      <td>0.0</td>\n",
       "      <td>0.0</td>\n",
       "      <td>0.0</td>\n",
       "      <td>0.0</td>\n",
       "      <td>0.0</td>\n",
       "      <td>0.0</td>\n",
       "      <td>0.0</td>\n",
       "      <td>0.0</td>\n",
       "      <td>0.0</td>\n",
       "      <td>0.0</td>\n",
       "    </tr>\n",
       "    <tr>\n",
       "      <th>1</th>\n",
       "      <td>0.0</td>\n",
       "      <td>0.0</td>\n",
       "      <td>0.0</td>\n",
       "      <td>0.0</td>\n",
       "      <td>0.0</td>\n",
       "      <td>0.0</td>\n",
       "      <td>0.0</td>\n",
       "      <td>0.0</td>\n",
       "      <td>0.0</td>\n",
       "      <td>0.0</td>\n",
       "      <td>...</td>\n",
       "      <td>0.0</td>\n",
       "      <td>0.0</td>\n",
       "      <td>0.0</td>\n",
       "      <td>0.0</td>\n",
       "      <td>0.0</td>\n",
       "      <td>0.0</td>\n",
       "      <td>0.0</td>\n",
       "      <td>0.0</td>\n",
       "      <td>0.0</td>\n",
       "      <td>0.0</td>\n",
       "    </tr>\n",
       "    <tr>\n",
       "      <th>2</th>\n",
       "      <td>0.0</td>\n",
       "      <td>0.0</td>\n",
       "      <td>0.0</td>\n",
       "      <td>0.0</td>\n",
       "      <td>0.0</td>\n",
       "      <td>0.0</td>\n",
       "      <td>0.0</td>\n",
       "      <td>0.0</td>\n",
       "      <td>0.0</td>\n",
       "      <td>0.0</td>\n",
       "      <td>...</td>\n",
       "      <td>0.0</td>\n",
       "      <td>0.0</td>\n",
       "      <td>0.0</td>\n",
       "      <td>0.0</td>\n",
       "      <td>0.0</td>\n",
       "      <td>0.0</td>\n",
       "      <td>0.0</td>\n",
       "      <td>0.0</td>\n",
       "      <td>0.0</td>\n",
       "      <td>0.0</td>\n",
       "    </tr>\n",
       "    <tr>\n",
       "      <th>3</th>\n",
       "      <td>0.0</td>\n",
       "      <td>0.0</td>\n",
       "      <td>0.0</td>\n",
       "      <td>0.0</td>\n",
       "      <td>0.0</td>\n",
       "      <td>0.0</td>\n",
       "      <td>0.0</td>\n",
       "      <td>0.0</td>\n",
       "      <td>0.0</td>\n",
       "      <td>0.0</td>\n",
       "      <td>...</td>\n",
       "      <td>0.0</td>\n",
       "      <td>0.0</td>\n",
       "      <td>0.0</td>\n",
       "      <td>0.0</td>\n",
       "      <td>0.0</td>\n",
       "      <td>0.0</td>\n",
       "      <td>0.0</td>\n",
       "      <td>0.0</td>\n",
       "      <td>0.0</td>\n",
       "      <td>0.0</td>\n",
       "    </tr>\n",
       "    <tr>\n",
       "      <th>4</th>\n",
       "      <td>0.0</td>\n",
       "      <td>0.0</td>\n",
       "      <td>0.0</td>\n",
       "      <td>0.0</td>\n",
       "      <td>0.0</td>\n",
       "      <td>0.0</td>\n",
       "      <td>0.0</td>\n",
       "      <td>0.0</td>\n",
       "      <td>0.0</td>\n",
       "      <td>0.0</td>\n",
       "      <td>...</td>\n",
       "      <td>0.0</td>\n",
       "      <td>0.0</td>\n",
       "      <td>0.0</td>\n",
       "      <td>0.0</td>\n",
       "      <td>0.0</td>\n",
       "      <td>0.0</td>\n",
       "      <td>0.0</td>\n",
       "      <td>0.0</td>\n",
       "      <td>0.0</td>\n",
       "      <td>0.0</td>\n",
       "    </tr>\n",
       "  </tbody>\n",
       "</table>\n",
       "<p>5 rows × 7564 columns</p>\n",
       "</div>"
      ],
      "text/plain": [
       "    aa  aah  aaniye  aaooooright  aathi   ab  abbey  abdomen  abeg  abel  ...  \\\n",
       "0  0.0  0.0     0.0          0.0    0.0  0.0    0.0      0.0   0.0   0.0  ...   \n",
       "1  0.0  0.0     0.0          0.0    0.0  0.0    0.0      0.0   0.0   0.0  ...   \n",
       "2  0.0  0.0     0.0          0.0    0.0  0.0    0.0      0.0   0.0   0.0  ...   \n",
       "3  0.0  0.0     0.0          0.0    0.0  0.0    0.0      0.0   0.0   0.0  ...   \n",
       "4  0.0  0.0     0.0          0.0    0.0  0.0    0.0      0.0   0.0   0.0  ...   \n",
       "\n",
       "   zeros   zf  zhong  zindgi  zoe  zogtorius  zoom  zouk   zs  zyada  \n",
       "0    0.0  0.0    0.0     0.0  0.0        0.0   0.0   0.0  0.0    0.0  \n",
       "1    0.0  0.0    0.0     0.0  0.0        0.0   0.0   0.0  0.0    0.0  \n",
       "2    0.0  0.0    0.0     0.0  0.0        0.0   0.0   0.0  0.0    0.0  \n",
       "3    0.0  0.0    0.0     0.0  0.0        0.0   0.0   0.0  0.0    0.0  \n",
       "4    0.0  0.0    0.0     0.0  0.0        0.0   0.0   0.0  0.0    0.0  \n",
       "\n",
       "[5 rows x 7564 columns]"
      ]
     },
     "execution_count": 11,
     "metadata": {},
     "output_type": "execute_result"
    }
   ],
   "source": [
    "# Now time to apply the above function in the column\n",
    "dummy_df = data['filtered_word'].apply(hotEncoding)\n",
    "dummy_df.columns = vocabulary\n",
    "dummy_df.head()"
   ]
  },
  {
   "cell_type": "code",
   "execution_count": 12,
   "id": "ae7f2512",
   "metadata": {},
   "outputs": [],
   "source": [
    "X = dummy_df.values\n",
    "y = data.target"
   ]
  },
  {
   "cell_type": "code",
   "execution_count": 13,
   "id": "0f846991",
   "metadata": {},
   "outputs": [],
   "source": [
    "X_train, X_test, y_train, y_test = train_test_split(X, y, test_size = 0.3, shuffle = True, stratify = y)\n",
    "X_valid, X_test, y_valid, y_test = train_test_split(X_test, y_test, test_size = 0.5, shuffle = True, stratify = y_test)"
   ]
  },
  {
   "cell_type": "code",
   "execution_count": 14,
   "id": "9b2c3d07",
   "metadata": {
    "scrolled": true
   },
   "outputs": [
    {
     "data": {
      "text/html": [
       "<div>\n",
       "<style scoped>\n",
       "    .dataframe tbody tr th:only-of-type {\n",
       "        vertical-align: middle;\n",
       "    }\n",
       "\n",
       "    .dataframe tbody tr th {\n",
       "        vertical-align: top;\n",
       "    }\n",
       "\n",
       "    .dataframe thead th {\n",
       "        text-align: right;\n",
       "    }\n",
       "</style>\n",
       "<table border=\"1\" class=\"dataframe\">\n",
       "  <thead>\n",
       "    <tr style=\"text-align: right;\">\n",
       "      <th></th>\n",
       "      <th>Train</th>\n",
       "      <th>Valid</th>\n",
       "      <th>Test</th>\n",
       "    </tr>\n",
       "  </thead>\n",
       "  <tbody>\n",
       "    <tr>\n",
       "      <th>X</th>\n",
       "      <td>(3900, 7564)</td>\n",
       "      <td>(836, 7564)</td>\n",
       "      <td>(836, 7564)</td>\n",
       "    </tr>\n",
       "    <tr>\n",
       "      <th>y</th>\n",
       "      <td>(3900,)</td>\n",
       "      <td>(836,)</td>\n",
       "      <td>(836,)</td>\n",
       "    </tr>\n",
       "  </tbody>\n",
       "</table>\n",
       "</div>"
      ],
      "text/plain": [
       "          Train        Valid         Test\n",
       "X  (3900, 7564)  (836, 7564)  (836, 7564)\n",
       "y       (3900,)       (836,)       (836,)"
      ]
     },
     "execution_count": 14,
     "metadata": {},
     "output_type": "execute_result"
    }
   ],
   "source": [
    "pd.DataFrame({'Train':{'X':X_train.shape, 'y':y_train.shape}, 'Valid':{'X':X_valid.shape, 'y':y_valid.shape}, 'Test':{'X':X_test.shape, 'y':y_test.shape}})"
   ]
  },
  {
   "cell_type": "markdown",
   "id": "8e28990d",
   "metadata": {},
   "source": [
    "<h4 style=\"background-color:#33FFBD;padding:5px;font-size:12pt;text-align:center;\"> k-Nearest Classifier </h4>"
   ]
  },
  {
   "cell_type": "code",
   "execution_count": 15,
   "id": "268e3b38",
   "metadata": {},
   "outputs": [
    {
     "data": {
      "application/vnd.jupyter.widget-view+json": {
       "model_id": "a6f074df83ae4c11ac6c5bd351e54c3f",
       "version_major": 2,
       "version_minor": 0
      },
      "text/plain": [
       "Traning:   0%|          | 0/10 [00:00<?, ?it/s]"
      ]
     },
     "metadata": {},
     "output_type": "display_data"
    }
   ],
   "source": [
    "knn_result_dict = {}\n",
    "for k in tqdm(range(1,11), desc = 'Traning'):\n",
    "    knn = KNeighborsClassifier(k)\n",
    "    knn.fit(X_train, y_train)\n",
    "    knn_result_dict[str(k)] = knn.score(X_test, y_test)"
   ]
  },
  {
   "cell_type": "code",
   "execution_count": 16,
   "id": "fa981a7c",
   "metadata": {
    "scrolled": false
   },
   "outputs": [
    {
     "name": "stdout",
     "output_type": "stream",
     "text": [
      "Best achived accuracy is 0.95, for the 1 number of neighbours.\n"
     ]
    },
    {
     "data": {
      "image/png": "[encoded data removed]",
      "text/plain": [
       "<Figure size 432x288 with 1 Axes>"
      ]
     },
     "metadata": {
      "needs_background": "light"
     },
     "output_type": "display_data"
    }
   ],
   "source": [
    "knn_result_df = pd.DataFrame(knn_result_dict.items(), columns=['k','accuracy'])\n",
    "best_result_knn = knn_result_df.sort_values(['accuracy'], ascending = False).iloc[0,:]\n",
    "# knn_result_dict\n",
    "# sns.barplot(x = 'k', y = 'accuracy', data = knn_result_df)\n",
    "print('Best achived accuracy is {}, for the {} number of neighbours.'.format(np.round(best_result_knn[1],2), best_result_knn[0]))\n",
    "plt.plot(knn_result_df.accuracy)\n",
    "plt.xlabel('Number of neighbors')\n",
    "plt.ylabel('Accuracy')\n",
    "plt.title('k vs accuracy for KNN');"
   ]
  },
  {
   "cell_type": "markdown",
   "id": "0b20419c",
   "metadata": {},
   "source": [
    "<h4 style=\"background-color:#33FFBD;padding:5px;font-size:12pt;text-align:center;\"> Support Vector Classifier </h4>"
   ]
  },
  {
   "cell_type": "code",
   "execution_count": 17,
   "id": "f85045a6",
   "metadata": {},
   "outputs": [
    {
     "name": "stdout",
     "output_type": "stream",
     "text": [
      "Test score 0.97\n"
     ]
    }
   ],
   "source": [
    "svm = SVC()\n",
    "svm.fit(X_train, y_train)\n",
    "print(\"Test score {}\".format(np.round(svm.score(X_test, y_test), 2)))"
   ]
  },
  {
   "cell_type": "code",
   "execution_count": 18,
   "id": "c19506e7",
   "metadata": {},
   "outputs": [
    {
     "data": {
      "image/png": "[encoded data removed]",
      "text/plain": [
       "<Figure size 432x288 with 1 Axes>"
      ]
     },
     "metadata": {
      "needs_background": "light"
     },
     "output_type": "display_data"
    }
   ],
   "source": [
    "plot_confusion_matrix(svm, X_test, y_test, cmap=plt.cm.Blues, colorbar = False)\n",
    "plt.title('Confusion Matrix');"
   ]
  },
  {
   "cell_type": "markdown",
   "id": "97e907fa",
   "metadata": {},
   "source": [
    "<h4 style=\"background-color:#33FFBD;padding:5px;font-size:12pt;text-align:center;\"> Decision Tree Classifier </h4>"
   ]
  },
  {
   "cell_type": "code",
   "execution_count": 19,
   "id": "3367da8e",
   "metadata": {},
   "outputs": [
    {
     "data": {
      "application/vnd.jupyter.widget-view+json": {
       "model_id": "ffafbd6cf5a0452d82da8d07c82697c4",
       "version_major": 2,
       "version_minor": 0
      },
      "text/plain": [
       "Traning:   0%|          | 0/10 [00:00<?, ?it/s]"
      ]
     },
     "metadata": {},
     "output_type": "display_data"
    }
   ],
   "source": [
    "dt_result_dict = {}\n",
    "for d in tqdm(range(1,11), desc = 'Traning'):\n",
    "    clf_DT = DecisionTreeClassifier(max_depth = d)\n",
    "    clf_DT.fit(X_train, y_train)\n",
    "    dt_result_dict[str(d)] = clf_DT.score(X_test, y_test)"
   ]
  },
  {
   "cell_type": "code",
   "execution_count": 20,
   "id": "13dc156f",
   "metadata": {
    "scrolled": true
   },
   "outputs": [
    {
     "name": "stdout",
     "output_type": "stream",
     "text": [
      "Best achived accuracy is 0.96, for the depth 10.\n"
     ]
    },
    {
     "data": {
      "image/png": "[encoded data removed]",
      "text/plain": [
       "<Figure size 432x288 with 1 Axes>"
      ]
     },
     "metadata": {
      "needs_background": "light"
     },
     "output_type": "display_data"
    }
   ],
   "source": [
    "dt_result_df = pd.DataFrame(dt_result_dict.items(), columns=['max_depth','accuracy'])\n",
    "best_result_dt = dt_result_df.sort_values(['accuracy'], ascending = False).iloc[0,:]\n",
    "# sns.barplot(x = 'max_depth', y = 'accuracy', data = dt_result_df)\n",
    "print('Best achived accuracy is {}, for the depth {}.'.format(np.round(best_result_dt[1],2), best_result_dt[0]))\n",
    "plt.plot(dt_result_df['max_depth'], dt_result_df['accuracy'])\n",
    "plt.xlabel('Max depth')\n",
    "plt.ylabel('Accuracy')\n",
    "plt.title('Max depth vs accuracy for DT');"
   ]
  },
  {
   "cell_type": "code",
   "execution_count": 21,
   "id": "7f7ef480",
   "metadata": {},
   "outputs": [
    {
     "data": {
      "image/png": "[encoded data removed]",
      "text/plain": [
       "<Figure size 432x288 with 1 Axes>"
      ]
     },
     "metadata": {
      "needs_background": "light"
     },
     "output_type": "display_data"
    }
   ],
   "source": [
    "clf_DT = DecisionTreeClassifier(max_depth = 10)\n",
    "clf_DT.fit(X_train, y_train)\n",
    "plot_confusion_matrix(clf_DT, X_test, y_test, cmap=plt.cm.Blues, colorbar = False)\n",
    "plt.title('Confusion Matrix');"
   ]
  },
  {
   "cell_type": "markdown",
   "id": "757c9f1d",
   "metadata": {},
   "source": [
    "<h3 style=\"background-color:#DAF7A6;padding:7px;text-align:center;\">Frequency Case <h3>"
   ]
  },
  {
   "cell_type": "code",
   "execution_count": 22,
   "id": "c5d6d97f",
   "metadata": {},
   "outputs": [],
   "source": [
    "# Term document matrix\n",
    "voc_len = len(vocabulary)\n",
    "# Define a funtion for encoding (Frequency)\n",
    "def countEncoding(word_list):\n",
    "    # Initialize the null vector\n",
    "    encoded_list = np.zeros(voc_len)\n",
    "    for i in range(voc_len):\n",
    "        word = vocabulary[i]\n",
    "        if word in word_list:\n",
    "            encoded_list[i] = word_list.count(word)\n",
    "        else:\n",
    "            encoded_list[i] = 0\n",
    "    return pd.Series(encoded_list)\n",
    "# Lets check the function\n",
    "# print(\"Length of vector {}\".format(len(hotEncoding(sub_data.filtered_word[0]))))\n",
    "# print(\"Number of words {}\".format(np.sum(hotEncoding(sub_data.filtered_word[0]), dtype = 'int32')))"
   ]
  },
  {
   "cell_type": "code",
   "execution_count": 24,
   "id": "cd97fd02",
   "metadata": {
    "scrolled": true
   },
   "outputs": [
    {
     "data": {
      "text/html": [
       "<div>\n",
       "<style scoped>\n",
       "    .dataframe tbody tr th:only-of-type {\n",
       "        vertical-align: middle;\n",
       "    }\n",
       "\n",
       "    .dataframe tbody tr th {\n",
       "        vertical-align: top;\n",
       "    }\n",
       "\n",
       "    .dataframe thead th {\n",
       "        text-align: right;\n",
       "    }\n",
       "</style>\n",
       "<table border=\"1\" class=\"dataframe\">\n",
       "  <thead>\n",
       "    <tr style=\"text-align: right;\">\n",
       "      <th></th>\n",
       "      <th>aa</th>\n",
       "      <th>aah</th>\n",
       "      <th>aaniye</th>\n",
       "      <th>aaooooright</th>\n",
       "      <th>aathi</th>\n",
       "      <th>ab</th>\n",
       "      <th>abbey</th>\n",
       "      <th>abdomen</th>\n",
       "      <th>abeg</th>\n",
       "      <th>abel</th>\n",
       "      <th>...</th>\n",
       "      <th>zeros</th>\n",
       "      <th>zf</th>\n",
       "      <th>zhong</th>\n",
       "      <th>zindgi</th>\n",
       "      <th>zoe</th>\n",
       "      <th>zogtorius</th>\n",
       "      <th>zoom</th>\n",
       "      <th>zouk</th>\n",
       "      <th>zs</th>\n",
       "      <th>zyada</th>\n",
       "    </tr>\n",
       "  </thead>\n",
       "  <tbody>\n",
       "    <tr>\n",
       "      <th>0</th>\n",
       "      <td>0.0</td>\n",
       "      <td>0.0</td>\n",
       "      <td>0.0</td>\n",
       "      <td>0.0</td>\n",
       "      <td>0.0</td>\n",
       "      <td>0.0</td>\n",
       "      <td>0.0</td>\n",
       "      <td>0.0</td>\n",
       "      <td>0.0</td>\n",
       "      <td>0.0</td>\n",
       "      <td>...</td>\n",
       "      <td>0.0</td>\n",
       "      <td>0.0</td>\n",
       "      <td>0.0</td>\n",
       "      <td>0.0</td>\n",
       "      <td>0.0</td>\n",
       "      <td>0.0</td>\n",
       "      <td>0.0</td>\n",
       "      <td>0.0</td>\n",
       "      <td>0.0</td>\n",
       "      <td>0.0</td>\n",
       "    </tr>\n",
       "    <tr>\n",
       "      <th>1</th>\n",
       "      <td>0.0</td>\n",
       "      <td>0.0</td>\n",
       "      <td>0.0</td>\n",
       "      <td>0.0</td>\n",
       "      <td>0.0</td>\n",
       "      <td>0.0</td>\n",
       "      <td>0.0</td>\n",
       "      <td>0.0</td>\n",
       "      <td>0.0</td>\n",
       "      <td>0.0</td>\n",
       "      <td>...</td>\n",
       "      <td>0.0</td>\n",
       "      <td>0.0</td>\n",
       "      <td>0.0</td>\n",
       "      <td>0.0</td>\n",
       "      <td>0.0</td>\n",
       "      <td>0.0</td>\n",
       "      <td>0.0</td>\n",
       "      <td>0.0</td>\n",
       "      <td>0.0</td>\n",
       "      <td>0.0</td>\n",
       "    </tr>\n",
       "    <tr>\n",
       "      <th>2</th>\n",
       "      <td>0.0</td>\n",
       "      <td>0.0</td>\n",
       "      <td>0.0</td>\n",
       "      <td>0.0</td>\n",
       "      <td>0.0</td>\n",
       "      <td>0.0</td>\n",
       "      <td>0.0</td>\n",
       "      <td>0.0</td>\n",
       "      <td>0.0</td>\n",
       "      <td>0.0</td>\n",
       "      <td>...</td>\n",
       "      <td>0.0</td>\n",
       "      <td>0.0</td>\n",
       "      <td>0.0</td>\n",
       "      <td>0.0</td>\n",
       "      <td>0.0</td>\n",
       "      <td>0.0</td>\n",
       "      <td>0.0</td>\n",
       "      <td>0.0</td>\n",
       "      <td>0.0</td>\n",
       "      <td>0.0</td>\n",
       "    </tr>\n",
       "    <tr>\n",
       "      <th>3</th>\n",
       "      <td>0.0</td>\n",
       "      <td>0.0</td>\n",
       "      <td>0.0</td>\n",
       "      <td>0.0</td>\n",
       "      <td>0.0</td>\n",
       "      <td>0.0</td>\n",
       "      <td>0.0</td>\n",
       "      <td>0.0</td>\n",
       "      <td>0.0</td>\n",
       "      <td>0.0</td>\n",
       "      <td>...</td>\n",
       "      <td>0.0</td>\n",
       "      <td>0.0</td>\n",
       "      <td>0.0</td>\n",
       "      <td>0.0</td>\n",
       "      <td>0.0</td>\n",
       "      <td>0.0</td>\n",
       "      <td>0.0</td>\n",
       "      <td>0.0</td>\n",
       "      <td>0.0</td>\n",
       "      <td>0.0</td>\n",
       "    </tr>\n",
       "    <tr>\n",
       "      <th>4</th>\n",
       "      <td>0.0</td>\n",
       "      <td>0.0</td>\n",
       "      <td>0.0</td>\n",
       "      <td>0.0</td>\n",
       "      <td>0.0</td>\n",
       "      <td>0.0</td>\n",
       "      <td>0.0</td>\n",
       "      <td>0.0</td>\n",
       "      <td>0.0</td>\n",
       "      <td>0.0</td>\n",
       "      <td>...</td>\n",
       "      <td>0.0</td>\n",
       "      <td>0.0</td>\n",
       "      <td>0.0</td>\n",
       "      <td>0.0</td>\n",
       "      <td>0.0</td>\n",
       "      <td>0.0</td>\n",
       "      <td>0.0</td>\n",
       "      <td>0.0</td>\n",
       "      <td>0.0</td>\n",
       "      <td>0.0</td>\n",
       "    </tr>\n",
       "  </tbody>\n",
       "</table>\n",
       "<p>5 rows × 7564 columns</p>\n",
       "</div>"
      ],
      "text/plain": [
       "    aa  aah  aaniye  aaooooright  aathi   ab  abbey  abdomen  abeg  abel  ...  \\\n",
       "0  0.0  0.0     0.0          0.0    0.0  0.0    0.0      0.0   0.0   0.0  ...   \n",
       "1  0.0  0.0     0.0          0.0    0.0  0.0    0.0      0.0   0.0   0.0  ...   \n",
       "2  0.0  0.0     0.0          0.0    0.0  0.0    0.0      0.0   0.0   0.0  ...   \n",
       "3  0.0  0.0     0.0          0.0    0.0  0.0    0.0      0.0   0.0   0.0  ...   \n",
       "4  0.0  0.0     0.0          0.0    0.0  0.0    0.0      0.0   0.0   0.0  ...   \n",
       "\n",
       "   zeros   zf  zhong  zindgi  zoe  zogtorius  zoom  zouk   zs  zyada  \n",
       "0    0.0  0.0    0.0     0.0  0.0        0.0   0.0   0.0  0.0    0.0  \n",
       "1    0.0  0.0    0.0     0.0  0.0        0.0   0.0   0.0  0.0    0.0  \n",
       "2    0.0  0.0    0.0     0.0  0.0        0.0   0.0   0.0  0.0    0.0  \n",
       "3    0.0  0.0    0.0     0.0  0.0        0.0   0.0   0.0  0.0    0.0  \n",
       "4    0.0  0.0    0.0     0.0  0.0        0.0   0.0   0.0  0.0    0.0  \n",
       "\n",
       "[5 rows x 7564 columns]"
      ]
     },
     "execution_count": 24,
     "metadata": {},
     "output_type": "execute_result"
    }
   ],
   "source": [
    "# Now time to apply the above function in the column\n",
    "dummy_df_freq = data['filtered_word'].apply(countEncoding)\n",
    "dummy_df_freq.columns = vocabulary\n",
    "dummy_df_freq.head()"
   ]
  },
  {
   "cell_type": "code",
   "execution_count": 25,
   "id": "e49f14ec",
   "metadata": {},
   "outputs": [],
   "source": [
    "X = dummy_df_freq.values\n",
    "y = data.target"
   ]
  },
  {
   "cell_type": "code",
   "execution_count": 26,
   "id": "f282fec4",
   "metadata": {},
   "outputs": [],
   "source": [
    "X_train, X_test, y_train, y_test = train_test_split(X, y, test_size = 0.3, shuffle = True, stratify = y)\n",
    "X_valid, X_test, y_valid, y_test = train_test_split(X_test, y_test, test_size = 0.5, shuffle = True, stratify = y_test)"
   ]
  },
  {
   "cell_type": "code",
   "execution_count": 27,
   "id": "dcf1452d",
   "metadata": {
    "scrolled": true
   },
   "outputs": [
    {
     "data": {
      "text/html": [
       "<div>\n",
       "<style scoped>\n",
       "    .dataframe tbody tr th:only-of-type {\n",
       "        vertical-align: middle;\n",
       "    }\n",
       "\n",
       "    .dataframe tbody tr th {\n",
       "        vertical-align: top;\n",
       "    }\n",
       "\n",
       "    .dataframe thead th {\n",
       "        text-align: right;\n",
       "    }\n",
       "</style>\n",
       "<table border=\"1\" class=\"dataframe\">\n",
       "  <thead>\n",
       "    <tr style=\"text-align: right;\">\n",
       "      <th></th>\n",
       "      <th>Train</th>\n",
       "      <th>Valid</th>\n",
       "      <th>Test</th>\n",
       "    </tr>\n",
       "  </thead>\n",
       "  <tbody>\n",
       "    <tr>\n",
       "      <th>X</th>\n",
       "      <td>(3900, 7564)</td>\n",
       "      <td>(836, 7564)</td>\n",
       "      <td>(836, 7564)</td>\n",
       "    </tr>\n",
       "    <tr>\n",
       "      <th>y</th>\n",
       "      <td>(3900,)</td>\n",
       "      <td>(836,)</td>\n",
       "      <td>(836,)</td>\n",
       "    </tr>\n",
       "  </tbody>\n",
       "</table>\n",
       "</div>"
      ],
      "text/plain": [
       "          Train        Valid         Test\n",
       "X  (3900, 7564)  (836, 7564)  (836, 7564)\n",
       "y       (3900,)       (836,)       (836,)"
      ]
     },
     "execution_count": 27,
     "metadata": {},
     "output_type": "execute_result"
    }
   ],
   "source": [
    "pd.DataFrame({'Train':{'X':X_train.shape, 'y':y_train.shape}, 'Valid':{'X':X_valid.shape, 'y':y_valid.shape}, 'Test':{'X':X_test.shape, 'y':y_test.shape}})"
   ]
  },
  {
   "cell_type": "markdown",
   "id": "fc972c83",
   "metadata": {},
   "source": [
    "<h4 style=\"background-color:#33FFBD;padding:5px;font-size:12pt;text-align:center;\"> k-Nearest Classifier </h4>"
   ]
  },
  {
   "cell_type": "code",
   "execution_count": 28,
   "id": "353b71fa",
   "metadata": {},
   "outputs": [
    {
     "data": {
      "application/vnd.jupyter.widget-view+json": {
       "model_id": "8b212defd0cd4c3399a41841769fa116",
       "version_major": 2,
       "version_minor": 0
      },
      "text/plain": [
       "Traning:   0%|          | 0/10 [00:00<?, ?it/s]"
      ]
     },
     "metadata": {},
     "output_type": "display_data"
    }
   ],
   "source": [
    "knn_result_dict = {}\n",
    "for k in tqdm(range(1,11), desc = 'Traning'):\n",
    "    knn = KNeighborsClassifier(k)\n",
    "    knn.fit(X_train, y_train)\n",
    "    knn_result_dict[str(k)] = knn.score(X_test, y_test)"
   ]
  },
  {
   "cell_type": "code",
   "execution_count": 29,
   "id": "a6d22703",
   "metadata": {
    "scrolled": false
   },
   "outputs": [
    {
     "name": "stdout",
     "output_type": "stream",
     "text": [
      "Best achived accuracy is 0.95, for the 1 number of neighbours.\n"
     ]
    },
    {
     "data": {
      "image/png": "[encoded data removed]",
      "text/plain": [
       "<Figure size 432x288 with 1 Axes>"
      ]
     },
     "metadata": {
      "needs_background": "light"
     },
     "output_type": "display_data"
    }
   ],
   "source": [
    "knn_result_df = pd.DataFrame(knn_result_dict.items(), columns=['k','accuracy'])\n",
    "best_result_knn = knn_result_df.sort_values(['accuracy'], ascending = False).iloc[0,:]\n",
    "# knn_result_dict\n",
    "# sns.barplot(x = 'k', y = 'accuracy', data = knn_result_df)\n",
    "print('Best achived accuracy is {}, for the {} number of neighbours.'.format(np.round(best_result_knn[1],2), best_result_knn[0]))\n",
    "plt.plot(knn_result_df.accuracy)\n",
    "plt.xlabel('Number of neighbors')\n",
    "plt.ylabel('Accuracy')\n",
    "plt.title('k vs accuracy for KNN');"
   ]
  },
  {
   "cell_type": "markdown",
   "id": "4481fba5",
   "metadata": {},
   "source": [
    "<h4 style=\"background-color:#33FFBD;padding:5px;font-size:12pt;text-align:center;\"> Support Vector Classifier </h4>"
   ]
  },
  {
   "cell_type": "code",
   "execution_count": 30,
   "id": "288ce878",
   "metadata": {},
   "outputs": [
    {
     "name": "stdout",
     "output_type": "stream",
     "text": [
      "Test score 0.97\n"
     ]
    }
   ],
   "source": [
    "svm = SVC()\n",
    "svm.fit(X_train, y_train)\n",
    "print(\"Test score {}\".format(np.round(svm.score(X_test, y_test), 2)))"
   ]
  },
  {
   "cell_type": "code",
   "execution_count": 31,
   "id": "2d902e1b",
   "metadata": {},
   "outputs": [
    {
     "data": {
      "image/png": "[encoded data removed]",
      "text/plain": [
       "<Figure size 432x288 with 1 Axes>"
      ]
     },
     "metadata": {
      "needs_background": "light"
     },
     "output_type": "display_data"
    }
   ],
   "source": [
    "plot_confusion_matrix(svm, X_test, y_test, cmap=plt.cm.Blues, colorbar = False)\n",
    "plt.title('Confusion Matrix');"
   ]
  },
  {
   "cell_type": "markdown",
   "id": "e545102d",
   "metadata": {},
   "source": [
    "<h4 style=\"background-color:#33FFBD;padding:5px;font-size:12pt;text-align:center;\"> Decision Tree Classifier </h4>"
   ]
  },
  {
   "cell_type": "code",
   "execution_count": 32,
   "id": "566f8ddc",
   "metadata": {},
   "outputs": [
    {
     "data": {
      "application/vnd.jupyter.widget-view+json": {
       "model_id": "21fd7d0154484b5bb9eecca2edebd44b",
       "version_major": 2,
       "version_minor": 0
      },
      "text/plain": [
       "Traning:   0%|          | 0/10 [00:00<?, ?it/s]"
      ]
     },
     "metadata": {},
     "output_type": "display_data"
    }
   ],
   "source": [
    "dt_result_dict = {}\n",
    "for d in tqdm(range(1,11), desc = 'Traning'):\n",
    "    clf_DT = DecisionTreeClassifier(max_depth = d)\n",
    "    clf_DT.fit(X_train, y_train)\n",
    "    dt_result_dict[str(d)] = clf_DT.score(X_test, y_test)"
   ]
  },
  {
   "cell_type": "code",
   "execution_count": 33,
   "id": "c26265fa",
   "metadata": {
    "scrolled": true
   },
   "outputs": [
    {
     "name": "stdout",
     "output_type": "stream",
     "text": [
      "Best achived accuracy is 0.95, for the depth 10.\n"
     ]
    },
    {
     "data": {
      "image/png": "[encoded data removed]",
      "text/plain": [
       "<Figure size 432x288 with 1 Axes>"
      ]
     },
     "metadata": {
      "needs_background": "light"
     },
     "output_type": "display_data"
    }
   ],
   "source": [
    "dt_result_df = pd.DataFrame(dt_result_dict.items(), columns=['max_depth','accuracy'])\n",
    "best_result_dt = dt_result_df.sort_values(['accuracy'], ascending = False).iloc[0,:]\n",
    "# sns.barplot(x = 'max_depth', y = 'accuracy', data = dt_result_df)\n",
    "print('Best achived accuracy is {}, for the depth {}.'.format(np.round(best_result_dt[1],2), best_result_dt[0]))\n",
    "plt.plot(dt_result_df['max_depth'], dt_result_df['accuracy'])\n",
    "plt.xlabel('Max depth')\n",
    "plt.ylabel('Accuracy')\n",
    "plt.title('Max depth vs accuracy for DT');"
   ]
  },
  {
   "cell_type": "code",
   "execution_count": 34,
   "id": "2b559c67",
   "metadata": {},
   "outputs": [
    {
     "data": {
      "image/png": "[encoded data removed]",
      "text/plain": [
       "<Figure size 432x288 with 1 Axes>"
      ]
     },
     "metadata": {
      "needs_background": "light"
     },
     "output_type": "display_data"
    }
   ],
   "source": [
    "clf_DT = DecisionTreeClassifier(max_depth = 10)\n",
    "clf_DT.fit(X_train, y_train)\n",
    "plot_confusion_matrix(clf_DT, X_test, y_test, cmap=plt.cm.Blues, colorbar = False)\n",
    "plt.title('Confusion Matrix');"
   ]
  },
  {
   "cell_type": "code",
   "execution_count": null,
   "id": "5ed54140",
   "metadata": {},
   "outputs": [],
   "source": []
  }
 ],
 "metadata": {
  "kernelspec": {
   "display_name": "Python 3 (ipykernel)",
   "language": "python",
   "name": "python3"
  },
  "language_info": {
   "codemirror_mode": {
    "name": "ipython",
    "version": 3
   },
   "file_extension": ".py",
   "mimetype": "text/x-python",
   "name": "python",
   "nbconvert_exporter": "python",
   "pygments_lexer": "ipython3",
   "version": "3.9.7"
  }
 },
 "nbformat": 4,
 "nbformat_minor": 5
}
